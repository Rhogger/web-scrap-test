{
 "cells": [
  {
   "cell_type": "markdown",
   "id": "165c415b",
   "metadata": {},
   "source": [
    "# Configurações"
   ]
  },
  {
   "cell_type": "markdown",
   "id": "ed1ddf29",
   "metadata": {},
   "source": [
    "## Importações"
   ]
  },
  {
   "cell_type": "code",
   "execution_count": null,
   "id": "87c7f2af",
   "metadata": {},
   "outputs": [],
   "source": [
    "import pandas as pd"
   ]
  },
  {
   "cell_type": "markdown",
   "id": "e7897bc0",
   "metadata": {},
   "source": [
    "## Definição do Dataframe"
   ]
  },
  {
   "cell_type": "code",
   "execution_count": null,
   "id": "a7bb4dc1",
   "metadata": {},
   "outputs": [],
   "source": [
    "df = pd.read_csv('../datasets/dataset.csv')"
   ]
  },
  {
   "cell_type": "markdown",
   "id": "9453aea1",
   "metadata": {},
   "source": [
    "# Conhecendo as Features"
   ]
  },
  {
   "cell_type": "code",
   "execution_count": null,
   "id": "85eb3f22",
   "metadata": {},
   "outputs": [],
   "source": []
  },
  {
   "cell_type": "markdown",
   "id": "8ce0942c",
   "metadata": {},
   "source": [
    "# Limpeza do dados"
   ]
  },
  {
   "cell_type": "code",
   "execution_count": null,
   "id": "67fefced",
   "metadata": {},
   "outputs": [],
   "source": []
  },
  {
   "cell_type": "markdown",
   "id": "0fd34dfc",
   "metadata": {},
   "source": [
    "# Gerar o dataframe"
   ]
  },
  {
   "cell_type": "code",
   "execution_count": null,
   "id": "111258d2",
   "metadata": {},
   "outputs": [],
   "source": [
    "df.to_csv('../datasets/data_clean.csv', index=False, encoding='utf-8')"
   ]
  },
  {
   "cell_type": "markdown",
   "id": "d65ee328",
   "metadata": {},
   "source": [
    "# Resultados"
   ]
  },
  {
   "cell_type": "markdown",
   "id": "ff07e00a",
   "metadata": {},
   "source": []
  }
 ],
 "metadata": {
  "kernelspec": {
   "display_name": "spotify-tJOz0lzU",
   "language": "python",
   "name": "python3"
  },
  "language_info": {
   "codemirror_mode": {
    "name": "ipython",
    "version": 3
   },
   "file_extension": ".py",
   "mimetype": "text/x-python",
   "name": "python",
   "nbconvert_exporter": "python",
   "pygments_lexer": "ipython3",
   "version": "3.13.7"
  }
 },
 "nbformat": 4,
 "nbformat_minor": 5
}
